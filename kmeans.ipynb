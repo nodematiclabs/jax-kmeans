{
 "cells": [
  {
   "cell_type": "code",
   "execution_count": null,
   "id": "5965b69e-a15a-4de6-9f54-a1f60bf4b044",
   "metadata": {},
   "outputs": [],
   "source": [
    "!pip install --upgrade \"jax[cuda12_pip]\" -f https://storage.googleapis.com/jax-releases/jax_cuda_releases.html"
   ]
  },
  {
   "cell_type": "code",
   "execution_count": null,
   "id": "4b0e33c4-cba7-4a01-96ca-97244e5f4e7e",
   "metadata": {},
   "outputs": [],
   "source": [
    "import jax\n",
    "import jax.numpy as jnp\n",
    "\n",
    "from jax import jit\n",
    "from jax import random\n",
    "from jax import vmap"
   ]
  },
  {
   "cell_type": "code",
   "execution_count": null,
   "id": "c31fd9a4-a977-4c90-84a8-38aa6378febf",
   "metadata": {},
   "outputs": [],
   "source": [
    "K = 2\n",
    "VECTORS = 32\n",
    "VECTOR_LENGTH = 64"
   ]
  },
  {
   "cell_type": "code",
   "execution_count": null,
   "id": "e77a3c0b-c6bb-430b-a751-1dc9a607fe75",
   "metadata": {},
   "outputs": [],
   "source": [
    "@jit\n",
    "def initialize_centroids(embeddings, k, key):\n",
    "    \"\"\"\n",
    "    This function initializes k centroids randomly.\n",
    "\n",
    "    Args:\n",
    "        embeddings (jax.numpy.ndarray): The input embeddings.\n",
    "        k (int): The number of clusters.\n",
    "        key (jax.random.PRNGKey): The random key.\n",
    "\n",
    "    Returns:\n",
    "        jax.numpy.ndarray: The initialized centroids.\n",
    "    \"\"\"\n",
    "    indices = random.choice(key, jnp.arange(embeddings.shape[0]), shape=(K,), replace=False)\n",
    "    return jnp.take(embeddings, indices, axis=0)"
   ]
  },
  {
   "cell_type": "code",
   "execution_count": null,
   "id": "b7d88eed-4d88-43eb-8c4f-ea225a04c5e7",
   "metadata": {},
   "outputs": [],
   "source": [
    "@jit\n",
    "def compute_distances(embedding, centroids):\n",
    "    \"\"\"\n",
    "    This function computes the distance from each centroid to an embedding.\n",
    "\n",
    "    Args:\n",
    "        embedding (jax.numpy.ndarray): The input embedding.\n",
    "        centroids (jax.numpy.ndarray): The centroids.\n",
    "\n",
    "    Returns:\n",
    "        jax.numpy.ndarray: The distances.\n",
    "    \"\"\"\n",
    "    return jnp.sqrt(jnp.sum((embedding - centroids)**2, axis=-1))"
   ]
  },
  {
   "cell_type": "code",
   "execution_count": null,
   "id": "97578af2-b909-4893-b005-06b9d30f70d0",
   "metadata": {},
   "outputs": [],
   "source": [
    "@jit\n",
    "def assign_clusters(embeddings, centroids):\n",
    "    \"\"\"\n",
    "    This function assigns each embedding to the nearest centroid.\n",
    "\n",
    "    Args:\n",
    "        embeddings (jax.numpy.ndarray): The input embeddings.\n",
    "        centroids (jax.numpy.ndarray): The centroids.\n",
    "\n",
    "    Returns:\n",
    "        jax.numpy.ndarray: The cluster assignments for each embedding.\n",
    "    \"\"\"\n",
    "    distances = vmap(compute_distances, in_axes=(0, None))(embeddings, centroids)\n",
    "    return jnp.argmin(distances, axis=-1)"
   ]
  },
  {
   "cell_type": "code",
   "execution_count": null,
   "id": "40d05a3a-2722-4185-a094-4dc1aaa280ed",
   "metadata": {},
   "outputs": [],
   "source": [
    "@jit\n",
    "def update_centroids(embeddings, assignments, k):\n",
    "    \"\"\"\n",
    "    This function updates the centroids by computing the mean of all embeddings in each cluster.\n",
    "\n",
    "    Args:\n",
    "        embeddings (jax.numpy.ndarray): The input embeddings.\n",
    "        assignments (jax.numpy.ndarray): The cluster assignments for each embedding.\n",
    "        K (int): The number of clusters.\n",
    "\n",
    "    Returns:\n",
    "        jax.numpy.ndarray: The updated centroids.\n",
    "    \"\"\"\n",
    "    def update_centroid(i):\n",
    "        mask = jnp.equal(assignments, i)\n",
    "        masked_embeddings = jnp.where(mask[:, None], embeddings, 0)\n",
    "        return jnp.sum(masked_embeddings, axis=0) / jnp.sum(mask)\n",
    "\n",
    "    return jax.vmap(update_centroid)(jnp.arange(K))"
   ]
  },
  {
   "cell_type": "code",
   "execution_count": null,
   "id": "2a5850bf-f0d2-494b-9bed-aa1ab1b10c16",
   "metadata": {},
   "outputs": [],
   "source": [
    "def kmeans(embeddings, k, num_iters=100, seed=0):\n",
    "    \"\"\"\n",
    "    This function applies the K-Means algorithm to input embeddings.\n",
    "\n",
    "    Args:\n",
    "        embeddings (jax.numpy.ndarray): The input embeddings.\n",
    "        k (int): The number of clusters.\n",
    "        num_iters (int, optional): The number of iterations to run the K-Means algorithm. Default is 100.\n",
    "        seed (int, optional): The random seed for centroid initialization. Default is 0.\n",
    "\n",
    "    Returns:\n",
    "        tuple: The final centroids and the cluster assignments for each embedding.\n",
    "    \"\"\"\n",
    "    key = random.PRNGKey(seed)\n",
    "    centroids = initialize_centroids(embeddings, k, key)\n",
    "\n",
    "    for _ in range(num_iters):\n",
    "        assignments = assign_clusters(embeddings, centroids)\n",
    "        centroids = update_centroids(embeddings, assignments, k)\n",
    "\n",
    "    return centroids, assignments"
   ]
  },
  {
   "cell_type": "code",
   "execution_count": null,
   "id": "cdae2ede-908e-41a3-bda0-f6226199b08f",
   "metadata": {},
   "outputs": [],
   "source": [
    "key = random.PRNGKey(0)\n",
    "embeddings = []\n",
    "for i in range(VECTORS):\n",
    "    embedding = []\n",
    "    for j in range(VECTOR_LENGTH):\n",
    "        key, subkey = random.split(key)\n",
    "        embedding.append(random.uniform(subkey, minval=0, maxval=1))\n",
    "    embeddings.append(embedding)\n",
    "embeddings = jnp.array(embeddings)\n",
    "%timeit -n1 -r1 kmeans(embeddings, 2)"
   ]
  }
 ],
 "metadata": {
  "kernelspec": {
   "display_name": "Python 3 (ipykernel)",
   "language": "python",
   "name": "python3"
  },
  "language_info": {
   "codemirror_mode": {
    "name": "ipython",
    "version": 3
   },
   "file_extension": ".py",
   "mimetype": "text/x-python",
   "name": "python",
   "nbconvert_exporter": "python",
   "pygments_lexer": "ipython3",
   "version": "3.9.7"
  }
 },
 "nbformat": 4,
 "nbformat_minor": 5
}
